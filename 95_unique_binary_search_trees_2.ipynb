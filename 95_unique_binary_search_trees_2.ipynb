{
 "cells": [
  {
   "cell_type": "code",
   "execution_count": 6,
   "metadata": {},
   "outputs": [
    {
     "name": "stdout",
     "output_type": "stream",
     "text": [
      "[[], [1], [2], [1, 2], [3], [1, 3], [2, 3], [1, 2, 3]]\n"
     ]
    }
   ],
   "source": [
    "n = 3\n",
    "nums = [i for i in range(1, n+1)]\n",
    "print(nums)\n",
    "\n",
    "subsets = [[]]\n",
    "\n",
    "for num in nums:\n",
    "    size = len(subsets)\n",
    "    for y in range(size):\n",
    "        subsets.append(subsets[y] + [num])\n",
    "print(subsets)"
   ]
  },
  {
   "cell_type": "code",
   "execution_count": 7,
   "metadata": {},
   "outputs": [
    {
     "name": "stdout",
     "output_type": "stream",
     "text": [
      "[[1, 2, 3]]\n"
     ]
    }
   ],
   "source": [
    "subsets_separation = [item for item in subsets if len(item) == n]\n",
    "print(subsets_separation)\n",
    "\n",
    "# 음.. 부분집합이 아니라 순열이었음.."
   ]
  },
  {
   "cell_type": "code",
   "execution_count": 17,
   "metadata": {},
   "outputs": [
    {
     "name": "stdout",
     "output_type": "stream",
     "text": [
      "[1, 2, 3]\n"
     ]
    }
   ],
   "source": [
    "# 여기부터 시작작\n",
    "\n",
    "n = 3\n",
    "nums = [i for i in range(1, n+1)]\n",
    "print(nums)"
   ]
  },
  {
   "cell_type": "code",
   "execution_count": 18,
   "metadata": {},
   "outputs": [
    {
     "name": "stdout",
     "output_type": "stream",
     "text": [
      "[[1, 2, 3], [1, 3, 2], [2, 1, 3], [2, 3, 1], [3, 1, 2], [3, 2, 1]]\n"
     ]
    }
   ],
   "source": [
    "def permutation(arr, n):\n",
    "    result = []\n",
    "    if n > len(arr):\n",
    "        return result\n",
    "    \n",
    "    if n == 1:\n",
    "        for i in arr:\n",
    "            result.append([i])\n",
    "    elif n > 1:\n",
    "        for i in range(len(arr)):\n",
    "            ans = [i for i in arr]\n",
    "            ans.remove(arr[i])\n",
    "\n",
    "            for p in permutation(ans, n-1):\n",
    "                result.append([arr[i]] + p)\n",
    "          \n",
    "    return result\n",
    "\n",
    "perm_list = permutation(nums, n)\n",
    "print(perm_list)"
   ]
  },
  {
   "cell_type": "code",
   "execution_count": 19,
   "metadata": {},
   "outputs": [],
   "source": [
    "# 이진 트리 만들어 봅시다\n",
    "# 만들어져 있는데?\n",
    "\n",
    "class TreeNode:\n",
    "    def __init__(self, val=0, left=None, right=None):\n",
    "        self.val = val\n",
    "        self.left = left\n",
    "        self.right = right"
   ]
  },
  {
   "cell_type": "code",
   "execution_count": null,
   "metadata": {},
   "outputs": [],
   "source": [
    "# 모든 트리의 정보를 저장할 변수\n",
    "result = []\n",
    "\n",
    "def add_result()"
   ]
  },
  {
   "cell_type": "code",
   "execution_count": null,
   "metadata": {},
   "outputs": [
    {
     "name": "stdout",
     "output_type": "stream",
     "text": [
      "[[1, 2, 3], [1, 3, 2], [2, 1, 3], [2, 3, 1], [3, 1, 2], [3, 2, 1]]\n",
      "[2, 3]\n"
     ]
    },
    {
     "ename": "AttributeError",
     "evalue": "'NoneType' object has no attribute 'val'",
     "output_type": "error",
     "traceback": [
      "\u001b[1;31m---------------------------------------------------------------------------\u001b[0m",
      "\u001b[1;31mAttributeError\u001b[0m                            Traceback (most recent call last)",
      "Cell \u001b[1;32mIn[25], line 45\u001b[0m\n\u001b[0;32m     41\u001b[0m         \u001b[38;5;28;01mfor\u001b[39;00m i \u001b[38;5;129;01min\u001b[39;00m arr:\n\u001b[0;32m     42\u001b[0m             insert_node(root, i)\n\u001b[1;32m---> 45\u001b[0m \u001b[43mgenerateTrees\u001b[49m\u001b[43m(\u001b[49m\u001b[38;5;241;43m3\u001b[39;49m\u001b[43m)\u001b[49m\n",
      "Cell \u001b[1;32mIn[25], line 42\u001b[0m, in \u001b[0;36mgenerateTrees\u001b[1;34m(n)\u001b[0m\n\u001b[0;32m     40\u001b[0m \u001b[38;5;28mprint\u001b[39m(arr)\n\u001b[0;32m     41\u001b[0m \u001b[38;5;28;01mfor\u001b[39;00m i \u001b[38;5;129;01min\u001b[39;00m arr:\n\u001b[1;32m---> 42\u001b[0m     \u001b[43minsert_node\u001b[49m\u001b[43m(\u001b[49m\u001b[43mroot\u001b[49m\u001b[43m,\u001b[49m\u001b[43m \u001b[49m\u001b[43mi\u001b[49m\u001b[43m)\u001b[49m\n",
      "Cell \u001b[1;32mIn[25], line 29\u001b[0m, in \u001b[0;36mgenerateTrees.<locals>.insert_node\u001b[1;34m(root, val)\u001b[0m\n\u001b[0;32m     27\u001b[0m     root\u001b[38;5;241m.\u001b[39mleft \u001b[38;5;241m=\u001b[39m insert_node(root\u001b[38;5;241m.\u001b[39mleft, val)\n\u001b[0;32m     28\u001b[0m \u001b[38;5;28;01melse\u001b[39;00m:\n\u001b[1;32m---> 29\u001b[0m     root\u001b[38;5;241m.\u001b[39mright \u001b[38;5;241m=\u001b[39m \u001b[43minsert_node\u001b[49m\u001b[43m(\u001b[49m\u001b[43mroot\u001b[49m\u001b[38;5;241;43m.\u001b[39;49m\u001b[43mright\u001b[49m\u001b[43m,\u001b[49m\u001b[43m \u001b[49m\u001b[43mval\u001b[49m\u001b[43m)\u001b[49m\n\u001b[0;32m     30\u001b[0m \u001b[38;5;28;01mreturn\u001b[39;00m root\n",
      "Cell \u001b[1;32mIn[25], line 26\u001b[0m, in \u001b[0;36mgenerateTrees.<locals>.insert_node\u001b[1;34m(root, val)\u001b[0m\n\u001b[0;32m     25\u001b[0m \u001b[38;5;28;01mdef\u001b[39;00m\u001b[38;5;250m \u001b[39m\u001b[38;5;21minsert_node\u001b[39m(root, val):\n\u001b[1;32m---> 26\u001b[0m     \u001b[38;5;28;01mif\u001b[39;00m val \u001b[38;5;241m<\u001b[39m \u001b[43mroot\u001b[49m\u001b[38;5;241;43m.\u001b[39;49m\u001b[43mval\u001b[49m:\n\u001b[0;32m     27\u001b[0m         root\u001b[38;5;241m.\u001b[39mleft \u001b[38;5;241m=\u001b[39m insert_node(root\u001b[38;5;241m.\u001b[39mleft, val)\n\u001b[0;32m     28\u001b[0m     \u001b[38;5;28;01melse\u001b[39;00m:\n",
      "\u001b[1;31mAttributeError\u001b[0m: 'NoneType' object has no attribute 'val'"
     ]
    }
   ],
   "source": [
    "# 이게 생긴게 이래서. 그냥 여기의 하위 항목으로 함수를 넣는 게 좋아보임아보임\n",
    "def generateTrees(n: int):\n",
    "    def permutation(arr, n):\n",
    "        result = []\n",
    "        if n > len(arr):\n",
    "            return result\n",
    "        \n",
    "        if n == 1:\n",
    "            for i in arr:\n",
    "                result.append([i])\n",
    "        elif n > 1:\n",
    "            for i in range(len(arr)):\n",
    "                ans = [i for i in arr]\n",
    "                ans.remove(arr[i])\n",
    "\n",
    "                for p in permutation(ans, n-1):\n",
    "                    result.append([arr[i]] + p)\n",
    "            \n",
    "        return result\n",
    "    \n",
    "    def generate_root(val):\n",
    "        root = TreeNode(val=val, left=None, right=None)\n",
    "        return root\n",
    "    \n",
    "    def insert_node(root, val):\n",
    "        if root == None:\n",
    "            return generate_root(val)\n",
    "        \n",
    "        if val < root.val:\n",
    "            root.left = insert_node(root.left, val)\n",
    "        else:\n",
    "            root.right = insert_node(root.right, val)\n",
    "        return root\n",
    "    \n",
    "    nums = [i for i in range(1, n+1)]\n",
    "    perm_list = permutation(nums, n)\n",
    "    print(perm_list)\n",
    "    \n",
    "    for arr in perm_list:\n",
    "        root = generate_root(arr[0])\n",
    "        parent = root\n",
    "        arr.remove(arr[0])\n",
    "        print(arr)\n",
    "        for i in arr:\n",
    "            insert_node(root, i)\n",
    "            \n",
    "    \n",
    "generateTrees(3)"
   ]
  }
 ],
 "metadata": {
  "kernelspec": {
   "display_name": "leetcode",
   "language": "python",
   "name": "python3"
  },
  "language_info": {
   "codemirror_mode": {
    "name": "ipython",
    "version": 3
   },
   "file_extension": ".py",
   "mimetype": "text/x-python",
   "name": "python",
   "nbconvert_exporter": "python",
   "pygments_lexer": "ipython3",
   "version": "3.12.8"
  }
 },
 "nbformat": 4,
 "nbformat_minor": 2
}
