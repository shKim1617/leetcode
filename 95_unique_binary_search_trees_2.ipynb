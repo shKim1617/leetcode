{
 "cells": [
  {
   "cell_type": "code",
   "execution_count": 6,
   "metadata": {},
   "outputs": [
    {
     "name": "stdout",
     "output_type": "stream",
     "text": [
      "[[], [1], [2], [1, 2], [3], [1, 3], [2, 3], [1, 2, 3]]\n"
     ]
    }
   ],
   "source": [
    "n = 3\n",
    "nums = [i for i in range(1, n+1)]\n",
    "print(nums)\n",
    "\n",
    "subsets = [[]]\n",
    "\n",
    "for num in nums:\n",
    "    size = len(subsets)\n",
    "    for y in range(size):\n",
    "        subsets.append(subsets[y] + [num])\n",
    "print(subsets)"
   ]
  },
  {
   "cell_type": "code",
   "execution_count": 7,
   "metadata": {},
   "outputs": [
    {
     "name": "stdout",
     "output_type": "stream",
     "text": [
      "[[1, 2, 3]]\n"
     ]
    }
   ],
   "source": [
    "subsets_separation = [item for item in subsets if len(item) == n]\n",
    "print(subsets_separation)\n",
    "\n",
    "# 음.. 부분집합이 아니라 순열이었음.."
   ]
  },
  {
   "cell_type": "code",
   "execution_count": 4,
   "metadata": {},
   "outputs": [
    {
     "name": "stdout",
     "output_type": "stream",
     "text": [
      "[1, 2, 3]\n"
     ]
    }
   ],
   "source": [
    "# 여기부터 시작작\n",
    "\n",
    "n = 3\n",
    "nums = [i for i in range(1, n+1)]\n",
    "print(nums)"
   ]
  },
  {
   "cell_type": "code",
   "execution_count": 3,
   "metadata": {},
   "outputs": [],
   "source": [
    "# 이진 트리 만들어 봅시다\n",
    "# 만들어져 있는데?\n",
    "\n",
    "class TreeNode:\n",
    "    def __init__(self, val=0, left=None, right=None):\n",
    "        self.val = val\n",
    "        self.left = left\n",
    "        self.right = right"
   ]
  },
  {
   "cell_type": "code",
   "execution_count": 21,
   "metadata": {},
   "outputs": [
    {
     "name": "stdout",
     "output_type": "stream",
     "text": [
      "[[1, 2, 3], [1, 3, 2], [2, 1, 3], [2, 3, 1], [3, 1, 2], [3, 2, 1]]\n",
      "[None, 1, 'null', 2, 'null', 'null', 'null', 3]\n",
      "[None, 1, 'null', 3, 'null', 'null', 2]\n",
      "[None, 2, 1, 3]\n",
      "[None, 2, 1, 3]\n",
      "[None, 3, 1, 'null', 'null', 2]\n",
      "[None, 3, 2, 'null', 1]\n"
     ]
    }
   ],
   "source": [
    "# 이게 생긴게 이래서. 그냥 여기의 하위 항목으로 함수를 넣는 게 좋아보임아보임\n",
    "# 이렇게 하면 트리 구조가 생성이 되어 버림. \n",
    "# 근데 트리 클래스를 여기서 줌.\n",
    "# 그러면 트리를 만들어놓고 그 트리를 갖다가 내가 배열로 다시 만들어야할 거 같은데데\n",
    "def generateTrees(n: int):\n",
    "    def permutation(arr, n):\n",
    "        result = []\n",
    "        if n > len(arr):\n",
    "            return result\n",
    "        \n",
    "        if n == 1:\n",
    "            for i in arr:\n",
    "                result.append([i])\n",
    "        elif n > 1:\n",
    "            for i in range(len(arr)):\n",
    "                ans = [i for i in arr]\n",
    "                ans.remove(arr[i])\n",
    "\n",
    "                for p in permutation(ans, n-1):\n",
    "                    result.append([arr[i]] + p)\n",
    "            \n",
    "        return result\n",
    "    \n",
    "    def generate_root(val):\n",
    "        root = TreeNode(val=val, left=None, right=None)\n",
    "        return root\n",
    "    \n",
    "    def insert_node(root, val):\n",
    "        if root == None:\n",
    "            return generate_root(val)\n",
    "        \n",
    "        if val < root.val:\n",
    "            root.left = insert_node(root.left, val)\n",
    "        else:\n",
    "            root.right = insert_node(root.right, val)\n",
    "        return root\n",
    "    \n",
    "    def tree_to_list(result, idx, val):\n",
    "        while len(result) <=idx:\n",
    "            result.append(\"null\")\n",
    "\n",
    "        if result[idx] == \"null\":\n",
    "            result[idx] = val\n",
    "        elif val < result[idx]:\n",
    "            tree_to_list(result, idx*2, val)\n",
    "        else:\n",
    "            tree_to_list(result, idx*2 + 1, val)\n",
    "        return result\n",
    "    \n",
    "    nums = [i for i in range(1, n+1)]\n",
    "    perm_list = permutation(nums, n)\n",
    "    print(perm_list)\n",
    "    \n",
    "    root = None\n",
    "            \n",
    "    for arr in perm_list:\n",
    "        result = [None]\n",
    "        for i in arr:\n",
    "            result = tree_to_list(result, 1, i)\n",
    "        print(result)\n",
    "        \n",
    "        \n",
    "            \n",
    "\n",
    "            \n",
    "    \n",
    "generateTrees(3)"
   ]
  }
 ],
 "metadata": {
  "kernelspec": {
   "display_name": "py3_11",
   "language": "python",
   "name": "python3"
  },
  "language_info": {
   "codemirror_mode": {
    "name": "ipython",
    "version": 3
   },
   "file_extension": ".py",
   "mimetype": "text/x-python",
   "name": "python",
   "nbconvert_exporter": "python",
   "pygments_lexer": "ipython3",
   "version": "3.11.10"
  }
 },
 "nbformat": 4,
 "nbformat_minor": 2
}
