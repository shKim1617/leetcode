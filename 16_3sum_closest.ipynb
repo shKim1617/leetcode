{
 "cells": [
  {
   "cell_type": "code",
   "execution_count": 13,
   "metadata": {},
   "outputs": [
    {
     "name": "stdout",
     "output_type": "stream",
     "text": [
      "[[-4, -1, 1], [-4, -1, 2], [-4, 1, 2], [-1, 1, 2]]\n",
      "[-4, -3, -1, 2]\n",
      "2\n"
     ]
    }
   ],
   "source": [
    "nums = [-1,2,1,-4]\n",
    "target = 1\n",
    "\n",
    "from itertools import combinations\n",
    "\n",
    "def threeSumClosest(nums, target):\n",
    "    combination_list = combination(nums, 3)\n",
    "    print(combination_list)\n",
    "    \n",
    "    sum_list = []\n",
    "    for temp in combination_list:\n",
    "        sum_list.append(sum(temp))\n",
    "    print(sum_list)\n",
    "    \n",
    "    closest = min(sum_list, key=lambda x:abs(x-target))\n",
    "    return closest\n",
    "    \n",
    "def combination(arr, r):\n",
    "    arr = sorted(arr)\n",
    "    combination_list = []\n",
    "    def generate(chosen):\n",
    "        if len(chosen) == r:\n",
    "            combination_list.append(chosen[:])\n",
    "            return\n",
    "\n",
    "        start = arr.index(chosen[-1]) + 1 if chosen else 0\n",
    "        for nxt in range(start, len(arr)):\n",
    "            chosen.append(arr[nxt])\n",
    "            generate(chosen)\n",
    "            chosen.pop()\n",
    "    generate([])\n",
    "    return combination_list\n",
    "\n",
    "result = threeSumClosest(nums, target)\n",
    "print(result)"
   ]
  },
  {
   "cell_type": "code",
   "execution_count": 14,
   "metadata": {},
   "outputs": [
    {
     "name": "stdout",
     "output_type": "stream",
     "text": [
      "<itertools.combinations object at 0x000001DEA49C2840>\n",
      "[2, -3, -4, -1]\n",
      "2\n"
     ]
    }
   ],
   "source": [
    "nums = [-1,2,1,-4]\n",
    "target = 1\n",
    "\n",
    "from itertools import combinations\n",
    "\n",
    "def threeSumClosest(nums, target):\n",
    "    combination_list = combinations(nums, 3)\n",
    "    \n",
    "    \n",
    "    sum_list = []\n",
    "    for temp in combination_list:\n",
    "        sum_list.append(sum(temp))\n",
    "    \n",
    "    closest = min(sum_list, key=lambda x:abs(x-target))\n",
    "    return closest\n",
    "\n",
    "\n",
    "result = threeSumClosest(nums, target)\n",
    "print(result)"
   ]
  }
 ],
 "metadata": {
  "kernelspec": {
   "display_name": "leetcode",
   "language": "python",
   "name": "python3"
  },
  "language_info": {
   "codemirror_mode": {
    "name": "ipython",
    "version": 3
   },
   "file_extension": ".py",
   "mimetype": "text/x-python",
   "name": "python",
   "nbconvert_exporter": "python",
   "pygments_lexer": "ipython3",
   "version": "3.12.8"
  }
 },
 "nbformat": 4,
 "nbformat_minor": 2
}
