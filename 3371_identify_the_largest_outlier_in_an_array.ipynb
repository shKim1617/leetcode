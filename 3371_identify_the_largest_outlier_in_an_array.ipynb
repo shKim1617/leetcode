{
 "cells": [
  {
   "cell_type": "markdown",
   "metadata": {},
   "source": [
    "이상치를 제외하고 나머지의 합은\n",
    "합 곱하기 2의 값이 된다. \n",
    "[2,3,5,10]\n",
    "\n",
    "여기서 정리를 해보자.\n",
    "이상치가 2라면,\n",
    "합 2배가 18. 즉 9가 있어야함.\n",
    "\n",
    "이상치가 3이라면,\n",
    "합 2배가 17. 홀수라서 불가능.\n",
    "\n",
    "이상치가 5라면\n",
    "합 2배가 15. 홀수라서 불가능.\n",
    "\n",
    "이상치가 10이라면\n",
    "합 2배가 10. 즉 5가 있어야하고 5는 있음.\n",
    "따라서, 10은 이상치임.\n",
    "\n",
    "여기서 알 수 있는 사실.\n",
    "이상치를 제외하고 나면 나머지의 합은 n-2의 합 * 2가 되어야만 함. \n",
    "2,3,5인 경우에는 모르겠는데?\n",
    "\n",
    "----------------------------------\n",
    "\n",
    "다른 케이스를 해봅시다\n",
    "\n",
    "[1,1,1,1,1,5,5]\n",
    "전체 합은 15\n",
    "\n",
    "이상치가 1,\n",
    "합 2배가 14\n",
    "\n",
    "이상치가 5,\n",
    "합 2배가 10\n",
    "\n",
    "-------------------\n",
    "[6,-31,50,-35,41,37,-42,13]\n",
    "\n",
    "이상치가 -35, \n",
    "74, 37. 있음\n",
    "\n",
    "이상치가 13.\n",
    "26, 13. 있는데. 이거는 빼고 계산해야지. "
   ]
  },
  {
   "cell_type": "code",
   "execution_count": 16,
   "metadata": {},
   "outputs": [
    {
     "name": "stdout",
     "output_type": "stream",
     "text": [
      "[-999, -997, -995, -993, -991, -989, -987, -985, -983, -981, -979, -977, -975, -973, -971, -969, -967, -965, -963, -961, -959, -957, -955, -953, -951, -949, -947, -945, -943, -941, -939, -937, -935, -933, -931, -929, -927, -925, -923, -921, -919, -917, -915, -913, -911, -909, -907, -905, -903, -901, -899, -893, -891, -889, -887, -885, -883, -881, -879, -877, -875, -873, -871, -869, -867, -865, -863, -861, -859, -857, -855, -853, -851, -849, -845, -843, -841, -839, -837, -835, -833, -831, -829, -827, -825, -823, -821, -819, -817, -815, -813, -811, -809, -807, -805, -803, -799, -797, -795, -793, -791, -789, -787, -785, -783, -781, -779, -777, -773, -771, -769, -767, -765, -763, -761, -759, -757, -755, -753, -751, -749, -747, -745, -743, -741, -739, -737, -735, -731, -729, -727, -725, -723, -721, -719, -717, -715, -713, -711, -709, -707, -705, -703, -701, -699, -697, -695, -693, -691, -689, -687, -685, -683, -681, -679, -677, -675, -673, -671, -669, -667, -665, -663, -661, -659, -657, -655, -653, -651, -649, -647, -645, -641, -639, -637, -635, -633, -631, -629, -627, -625, -623, -621, -619, -617, -615, -613, -611, -609, -607, -605, -603, -601, -599, -597, -595, -593, -591]\n",
      "-591\n"
     ]
    }
   ],
   "source": [
    "nums = [2,3,5,10]\n",
    "def getLargestOutlier(nums):\n",
    "    dic = dict()\n",
    "    for i in range(-1000, 1001, 1):\n",
    "        dic[i] = nums.count(i)\n",
    "        \n",
    "    expect_outlier = []\n",
    "    total_sum = sum(nums)\n",
    "    for i in range(-1000, 1001, 1):\n",
    "        if dic[i] >= 1:\n",
    "            check = (total_sum - i) / 2\n",
    "            if check in nums:\n",
    "                if check == i and dic[check] == 1:\n",
    "                    continue\n",
    "                expect_outlier.append(i)\n",
    "      \n",
    "    print(expect_outlier)          \n",
    "    return max(expect_outlier)\n",
    "            \n",
    "                \n",
    "temp = getLargestOutlier(nums)\n",
    "print(temp)"
   ]
  },
  {
   "cell_type": "code",
   "execution_count": 19,
   "metadata": {},
   "outputs": [
    {
     "name": "stdout",
     "output_type": "stream",
     "text": [
      "[10]\n",
      "10\n"
     ]
    }
   ],
   "source": [
    "nums = [2,3,5,10]\n",
    "def getLargestOutlier(nums):\n",
    "    dic = dict()\n",
    "    for num in nums:\n",
    "        dic[num] = dic.get(num, 0) + 1\n",
    "        \n",
    "    expect_outlier = []\n",
    "    total_sum = sum(nums)\n",
    "    for i in dic.keys():\n",
    "        check = (total_sum - i) / 2\n",
    "        if check in dic:\n",
    "            if check == i and dic[check] == 1:\n",
    "                continue\n",
    "            expect_outlier.append(i)\n",
    "      \n",
    "    print(expect_outlier)          \n",
    "    return max(expect_outlier)\n",
    "            \n",
    "                \n",
    "temp = getLargestOutlier(nums)\n",
    "print(temp)"
   ]
  }
 ],
 "metadata": {
  "kernelspec": {
   "display_name": "leetcode",
   "language": "python",
   "name": "python3"
  },
  "language_info": {
   "codemirror_mode": {
    "name": "ipython",
    "version": 3
   },
   "file_extension": ".py",
   "mimetype": "text/x-python",
   "name": "python",
   "nbconvert_exporter": "python",
   "pygments_lexer": "ipython3",
   "version": "3.12.8"
  }
 },
 "nbformat": 4,
 "nbformat_minor": 2
}
