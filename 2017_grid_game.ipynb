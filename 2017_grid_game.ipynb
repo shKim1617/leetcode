{
 "cells": [
  {
   "cell_type": "code",
   "execution_count": 76,
   "metadata": {},
   "outputs": [
    {
     "name": "stdout",
     "output_type": "stream",
     "text": [
      "19 7 [[0, 3, 1, 15], [1, 3, 3, 1]]\n",
      "16 6 [[0, 0, 1, 15], [1, 3, 3, 1]]\n",
      "15 3 [[0, 0, 0, 15], [1, 3, 3, 1]]\n",
      "0 3 [[0, 0, 0, 0], [1, 3, 3, 0]]\n"
     ]
    },
    {
     "data": {
      "text/plain": [
       "7"
      ]
     },
     "execution_count": 76,
     "metadata": {},
     "output_type": "execute_result"
    }
   ],
   "source": [
    "grid = [[1,3,1,15],[1,3,3,1]]\n",
    "\n",
    "def gridGame(grid):\n",
    "    n = len(grid[0])\n",
    "    row, col = 0, 0\n",
    "    total = grid[row][col]\n",
    "\n",
    "    for i in range(n-1):\n",
    "        total += grid[row][col]\n",
    "        grid[row][col] = 0\n",
    "        print(sum(grid[0][i+1:n]), sum(grid[1][i:n-1]), grid)\n",
    "        if sum(grid[0][i+1:n]) < sum(grid[1][i:n-1]):\n",
    "            if grid[0][i+1] >= grid[1][i]:\n",
    "                col += 1\n",
    "            else:\n",
    "                row += 1\n",
    "                break\n",
    "        else:\n",
    "            col += 1\n",
    "    \n",
    "    if row == 1:\n",
    "        total += sum(grid[row][col:n])\n",
    "        grid[row][col:n] = [0] * (n-col)\n",
    "    else:\n",
    "        total += grid[0][col] + grid[1][col]\n",
    "        grid[0][col], grid[1][col] = 0, 0\n",
    "    print(row, col, grid)\n",
    "\n",
    "    # 정답을 구할 차례\n",
    "    # 이건 상관이 없음. col 기준으로 계산하면 됨. \n",
    "    \n",
    "    total_row0 = sum(grid[0][col:])\n",
    "    total_row1 = sum(grid[1][:col])\n",
    "    if total_row0 > total_row1:\n",
    "        return total_row0\n",
    "    else:\n",
    "        return total_row1\n",
    "    \n",
    "gridGame(grid)"
   ]
  },
  {
   "cell_type": "code",
   "execution_count": 63,
   "metadata": {},
   "outputs": [
    {
     "name": "stdout",
     "output_type": "stream",
     "text": [
      "105 182 [[0, 3, 20, 17, 2, 12, 15, 17, 4, 15], [1, 1, 1, 140, 15, 5, 2, 3, 14, 3]]\n",
      "1 0 [[0, 3, 20, 17, 2, 12, 15, 17, 4, 15], [0, 0, 0, 0, 0, 0, 0, 0, 0, 0]]\n"
     ]
    },
    {
     "data": {
      "text/plain": [
       "105"
      ]
     },
     "execution_count": 63,
     "metadata": {},
     "output_type": "execute_result"
    }
   ],
   "source": [
    "gridGame(grid)"
   ]
  },
  {
   "cell_type": "code",
   "execution_count": 19,
   "metadata": {},
   "outputs": [
    {
     "data": {
      "text/plain": [
       "[]"
      ]
     },
     "execution_count": 19,
     "metadata": {},
     "output_type": "execute_result"
    }
   ],
   "source": [
    "grid = [[2,5,4],[1,5,1]]\n",
    "grid[0][3:3] < grid[1][2:2]\n",
    "grid[1][2:2]"
   ]
  },
  {
   "cell_type": "markdown",
   "metadata": {},
   "source": [
    "사이즈가 n인데. \n",
    "3이면 2번 계산하면 되고\n",
    "1층은 인덱스로 따지면 1,2 / 2\n",
    "2층은 0, 1 / 1\n",
    "\n",
    "총 이동은 몇번을 하냐. 아래로 1번. 오른쪽으로 2번\n",
    "3번 이동해야함. 이건 n이랑 같고. "
   ]
  },
  {
   "cell_type": "code",
   "execution_count": 69,
   "metadata": {},
   "outputs": [
    {
     "name": "stdout",
     "output_type": "stream",
     "text": [
      "0 0 [[20, 3, 20, 17, 2, 12, 15, 17, 4, 15], [20, 10, 13, 14, 15, 5, 2, 3, 14, 3]]\n",
      "1 0 [[0, 3, 20, 17, 2, 12, 15, 17, 4, 15], [0, 0, 0, 0, 0, 0, 0, 0, 0, 0]]\n"
     ]
    },
    {
     "data": {
      "text/plain": [
       "105"
      ]
     },
     "execution_count": 69,
     "metadata": {},
     "output_type": "execute_result"
    }
   ],
   "source": [
    "grid = [[20,3,20,17,2,12,15,17,4,15],[20,10,13,14,15,5,2,3,14,3]]\n",
    "\n",
    "def gridGame(grid):\n",
    "    n = len(grid[0])\n",
    "    row, col = 0, 0\n",
    "    total = 0\n",
    "    for i in range(n-1):\n",
    "        print(row, col, grid)\n",
    "        total += grid[row][col]\n",
    "        grid[row][col] = 0\n",
    "        if grid[0][i+1] < grid[1][i]:\n",
    "            row += 1\n",
    "            break\n",
    "        else:\n",
    "            col += 1\n",
    "    \n",
    "    if row == 1:\n",
    "        total += sum(grid[row][col:n])\n",
    "        grid[row][col:n] = [0] * (n-col)\n",
    "    else:\n",
    "        total += grid[0][col] + grid[1][col]\n",
    "        grid[0][col], grid[1][col] = 0, 0\n",
    "    print(row, col, grid)\n",
    "\n",
    "    # 정답을 구할 차례\n",
    "    # 이건 상관이 없음. col 기준으로 계산하면 됨. \n",
    "    total_row0 = sum(grid[0][col:])\n",
    "    total_row1 = sum(grid[1][:col])\n",
    "    if total_row0 > total_row1:\n",
    "        return total_row0\n",
    "    else:\n",
    "        return total_row1\n",
    "    \n",
    "gridGame(grid)"
   ]
  },
  {
   "cell_type": "code",
   "execution_count": null,
   "metadata": {},
   "outputs": [],
   "source": []
  },
  {
   "cell_type": "markdown",
   "metadata": {},
   "source": [
    "어차피 한 줄을 로봇1이 먹어야함. \n",
    "컬럼 기준으로 간단하게 판단이 가능할 것도 같음 "
   ]
  },
  {
   "cell_type": "code",
   "execution_count": 32,
   "metadata": {},
   "outputs": [
    {
     "name": "stdout",
     "output_type": "stream",
     "text": [
      "[20, 3, 20, 17, 2, 12, 15, 17, 4, 15]\n",
      "[20, 10, 13, 14, 15, 5, 2, 3, 14, 3]\n",
      "125 15\n",
      "3 14\n",
      "128 127 9\n",
      "\n",
      "110 4\n",
      "17 3\n",
      "128 126 8\n",
      "\n",
      "106 17\n",
      "20 2\n",
      "128 111 7\n",
      "\n",
      "89 15\n",
      "22 5\n",
      "128 101 6\n",
      "\n",
      "74 12\n",
      "27 15\n",
      "128 104 5\n",
      "\n",
      "62 2\n",
      "42 14\n",
      "128 116 4\n",
      "\n",
      "60 17\n",
      "56 13\n",
      "128 112 3\n",
      "\n",
      "43 20\n",
      "69 10\n",
      "128 102 2\n",
      "\n",
      "23 3\n",
      "79 20\n",
      "128 119 1\n",
      "\n",
      "105 0\n"
     ]
    },
    {
     "data": {
      "text/plain": [
       "105"
      ]
     },
     "execution_count": 32,
     "metadata": {},
     "output_type": "execute_result"
    }
   ],
   "source": [
    "grid = [[20,3,20,17,2,12,15,17,4,15],[20,10,13,14,15,5,2,3,14,3]]\n",
    "\n",
    "def gridGame(grid):\n",
    "    for i in grid:\n",
    "        print(i)\n",
    "    n = len(grid[0])\n",
    "    idx = 0\n",
    "    sum_row0 = sum(grid[0])\n",
    "    sum_row1 = grid[1][-1]\n",
    "    max_robot = sum_row0 + sum_row1\n",
    "    \n",
    "    for col in range(n-1, 0, -1):\n",
    "        print(sum_row0, grid[0][col])\n",
    "        print(sum_row1, grid[1][col-1])\n",
    "        \n",
    "        sum_row0 -= grid[0][col]\n",
    "        sum_row1 += grid[1][col-1]\n",
    "        robot = sum_row0 + sum_row1\n",
    "        \n",
    "        print(max_robot, robot, col)\n",
    "        print()\n",
    "        if robot > max_robot:\n",
    "            # print(max_robot, robot)\n",
    "            max_robot = robot\n",
    "            idx = col\n",
    "            print(idx)\n",
    "        \n",
    "    robot2_row0 = sum(grid[0][idx+1:])\n",
    "    robot2_row1 = sum(grid[1][:idx])\n",
    "    print(robot2_row0, robot2_row1)\n",
    "    if robot2_row0 > robot2_row1:\n",
    "        return robot2_row0\n",
    "    else:\n",
    "        return robot2_row1\n",
    "        \n",
    "gridGame(grid)"
   ]
  },
  {
   "cell_type": "code",
   "execution_count": 27,
   "metadata": {},
   "outputs": [
    {
     "name": "stdout",
     "output_type": "stream",
     "text": [
      "63 57\n",
      "125\n"
     ]
    }
   ],
   "source": [
    "grid = [[20,3,20,17,2,12,15,17,4,15],[20,10,13,14,15,5,2,3,14,3]]\n",
    "idx = 4\n",
    "print(sum(grid[0][idx+1:]), sum(grid[1][:idx]))\n",
    "print(sum(grid[0]))"
   ]
  },
  {
   "cell_type": "code",
   "execution_count": null,
   "metadata": {},
   "outputs": [],
   "source": []
  },
  {
   "cell_type": "markdown",
   "metadata": {},
   "source": [
    "문제를 똑바로 읽자.\n",
    "\n",
    "첫 번째 로봇은 두번 째 로봇이 값을 적게 먹도록 하는게 자기 일이다.\n",
    "\n",
    "나는 첫 번째가 많이 먹게 하려고 했지.."
   ]
  },
  {
   "cell_type": "code",
   "execution_count": 40,
   "metadata": {},
   "outputs": [
    {
     "name": "stdout",
     "output_type": "stream",
     "text": [
      "[2, 5, 4]\n",
      "[1, 5, 1]\n",
      "0 6\n",
      "4 5\n",
      "\n",
      "2\n",
      "4 1\n",
      "5 1\n",
      "\n"
     ]
    },
    {
     "data": {
      "text/plain": [
       "4"
      ]
     },
     "execution_count": 40,
     "metadata": {},
     "output_type": "execute_result"
    }
   ],
   "source": [
    "grid = [[2,5,4],[1,5,1]]\n",
    "\n",
    "def gridGame(grid):\n",
    "    for i in grid:\n",
    "        print(i)\n",
    "    n = len(grid[0])\n",
    "    idx = 0\n",
    "    sum_row0 = 0\n",
    "    sum_row1 = sum(grid[1][:-1])\n",
    "    robot = sum_row1\n",
    "    \n",
    "    for col in range(n-1, 0, -1):     \n",
    "        print(sum_row0, sum_row1)\n",
    "        print(grid[0][col], grid[1][col-1])  \n",
    "        print()\n",
    "        sum_row0 += grid[0][col]\n",
    "        sum_row1 -= grid[1][col-1]\n",
    "        max_sum = max(sum_row0, sum_row1)\n",
    "        \n",
    "        if robot > max_sum:\n",
    "            robot = max_sum\n",
    "            idx = col\n",
    "            print(idx)\n",
    "        \n",
    "    return robot\n",
    "        \n",
    "gridGame(grid)"
   ]
  }
 ],
 "metadata": {
  "kernelspec": {
   "display_name": "leetcode",
   "language": "python",
   "name": "python3"
  },
  "language_info": {
   "codemirror_mode": {
    "name": "ipython",
    "version": 3
   },
   "file_extension": ".py",
   "mimetype": "text/x-python",
   "name": "python",
   "nbconvert_exporter": "python",
   "pygments_lexer": "ipython3",
   "version": "3.12.8"
  }
 },
 "nbformat": 4,
 "nbformat_minor": 2
}
