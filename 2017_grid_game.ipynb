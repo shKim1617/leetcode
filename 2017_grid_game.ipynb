{
 "cells": [
  {
   "cell_type": "code",
   "execution_count": 76,
   "metadata": {},
   "outputs": [
    {
     "name": "stdout",
     "output_type": "stream",
     "text": [
      "19 7 [[0, 3, 1, 15], [1, 3, 3, 1]]\n",
      "16 6 [[0, 0, 1, 15], [1, 3, 3, 1]]\n",
      "15 3 [[0, 0, 0, 15], [1, 3, 3, 1]]\n",
      "0 3 [[0, 0, 0, 0], [1, 3, 3, 0]]\n"
     ]
    },
    {
     "data": {
      "text/plain": [
       "7"
      ]
     },
     "execution_count": 76,
     "metadata": {},
     "output_type": "execute_result"
    }
   ],
   "source": [
    "grid = [[1,3,1,15],[1,3,3,1]]\n",
    "\n",
    "def gridGame(grid):\n",
    "    n = len(grid[0])\n",
    "    row, col = 0, 0\n",
    "    total = grid[row][col]\n",
    "\n",
    "    for i in range(n-1):\n",
    "        total += grid[row][col]\n",
    "        grid[row][col] = 0\n",
    "        print(sum(grid[0][i+1:n]), sum(grid[1][i:n-1]), grid)\n",
    "        if sum(grid[0][i+1:n]) < sum(grid[1][i:n-1]):\n",
    "            if grid[0][i+1] >= grid[1][i]:\n",
    "                col += 1\n",
    "            else:\n",
    "                row += 1\n",
    "                break\n",
    "        else:\n",
    "            col += 1\n",
    "    \n",
    "    if row == 1:\n",
    "        total += sum(grid[row][col:n])\n",
    "        grid[row][col:n] = [0] * (n-col)\n",
    "    else:\n",
    "        total += grid[0][col] + grid[1][col]\n",
    "        grid[0][col], grid[1][col] = 0, 0\n",
    "    print(row, col, grid)\n",
    "\n",
    "    # 정답을 구할 차례\n",
    "    # 이건 상관이 없음. col 기준으로 계산하면 됨. \n",
    "    \n",
    "    total_row0 = sum(grid[0][col:])\n",
    "    total_row1 = sum(grid[1][:col])\n",
    "    if total_row0 > total_row1:\n",
    "        return total_row0\n",
    "    else:\n",
    "        return total_row1\n",
    "    \n",
    "gridGame(grid)"
   ]
  },
  {
   "cell_type": "code",
   "execution_count": 63,
   "metadata": {},
   "outputs": [
    {
     "name": "stdout",
     "output_type": "stream",
     "text": [
      "105 182 [[0, 3, 20, 17, 2, 12, 15, 17, 4, 15], [1, 1, 1, 140, 15, 5, 2, 3, 14, 3]]\n",
      "1 0 [[0, 3, 20, 17, 2, 12, 15, 17, 4, 15], [0, 0, 0, 0, 0, 0, 0, 0, 0, 0]]\n"
     ]
    },
    {
     "data": {
      "text/plain": [
       "105"
      ]
     },
     "execution_count": 63,
     "metadata": {},
     "output_type": "execute_result"
    }
   ],
   "source": [
    "gridGame(grid)"
   ]
  },
  {
   "cell_type": "code",
   "execution_count": 19,
   "metadata": {},
   "outputs": [
    {
     "data": {
      "text/plain": [
       "[]"
      ]
     },
     "execution_count": 19,
     "metadata": {},
     "output_type": "execute_result"
    }
   ],
   "source": [
    "grid = [[2,5,4],[1,5,1]]\n",
    "grid[0][3:3] < grid[1][2:2]\n",
    "grid[1][2:2]"
   ]
  },
  {
   "cell_type": "markdown",
   "metadata": {},
   "source": [
    "사이즈가 n인데. \n",
    "3이면 2번 계산하면 되고\n",
    "1층은 인덱스로 따지면 1,2 / 2\n",
    "2층은 0, 1 / 1\n",
    "\n",
    "총 이동은 몇번을 하냐. 아래로 1번. 오른쪽으로 2번\n",
    "3번 이동해야함. 이건 n이랑 같고. "
   ]
  },
  {
   "cell_type": "code",
   "execution_count": 69,
   "metadata": {},
   "outputs": [
    {
     "name": "stdout",
     "output_type": "stream",
     "text": [
      "0 0 [[20, 3, 20, 17, 2, 12, 15, 17, 4, 15], [20, 10, 13, 14, 15, 5, 2, 3, 14, 3]]\n",
      "1 0 [[0, 3, 20, 17, 2, 12, 15, 17, 4, 15], [0, 0, 0, 0, 0, 0, 0, 0, 0, 0]]\n"
     ]
    },
    {
     "data": {
      "text/plain": [
       "105"
      ]
     },
     "execution_count": 69,
     "metadata": {},
     "output_type": "execute_result"
    }
   ],
   "source": [
    "grid = [[20,3,20,17,2,12,15,17,4,15],[20,10,13,14,15,5,2,3,14,3]]\n",
    "\n",
    "def gridGame(grid):\n",
    "    n = len(grid[0])\n",
    "    row, col = 0, 0\n",
    "    total = 0\n",
    "    for i in range(n-1):\n",
    "        print(row, col, grid)\n",
    "        total += grid[row][col]\n",
    "        grid[row][col] = 0\n",
    "        if grid[0][i+1] < grid[1][i]:\n",
    "            row += 1\n",
    "            break\n",
    "        else:\n",
    "            col += 1\n",
    "    \n",
    "    if row == 1:\n",
    "        total += sum(grid[row][col:n])\n",
    "        grid[row][col:n] = [0] * (n-col)\n",
    "    else:\n",
    "        total += grid[0][col] + grid[1][col]\n",
    "        grid[0][col], grid[1][col] = 0, 0\n",
    "    print(row, col, grid)\n",
    "\n",
    "    # 정답을 구할 차례\n",
    "    # 이건 상관이 없음. col 기준으로 계산하면 됨. \n",
    "    total_row0 = sum(grid[0][col:])\n",
    "    total_row1 = sum(grid[1][:col])\n",
    "    if total_row0 > total_row1:\n",
    "        return total_row0\n",
    "    else:\n",
    "        return total_row1\n",
    "    \n",
    "gridGame(grid)"
   ]
  }
 ],
 "metadata": {
  "kernelspec": {
   "display_name": "leetcode",
   "language": "python",
   "name": "python3"
  },
  "language_info": {
   "codemirror_mode": {
    "name": "ipython",
    "version": 3
   },
   "file_extension": ".py",
   "mimetype": "text/x-python",
   "name": "python",
   "nbconvert_exporter": "python",
   "pygments_lexer": "ipython3",
   "version": "3.12.8"
  }
 },
 "nbformat": 4,
 "nbformat_minor": 2
}
